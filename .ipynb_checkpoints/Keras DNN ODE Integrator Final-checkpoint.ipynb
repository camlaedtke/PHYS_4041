{
 "cells": [
  {
   "cell_type": "code",
   "execution_count": null,
   "metadata": {},
   "outputs": [],
   "source": [
    "import os\n",
    "import numpy as np\n",
    "import seaborn as sns\n",
    "import matplotlib.pyplot as plt\n",
    "from scipy.integrate import odeint\n",
    "from sklearn.model_selection import train_test_split\n",
    "from ode_generators import generate_damped_pendulum_solution\n",
    "\n",
    "import tensorflow as tf\n",
    "from tensorflow import keras\n",
    "import tensorflow.keras.backend as K\n",
    "from tensorflow.keras.utils import plot_model\n",
    "from tensorflow.keras import layers\n",
    "from tensorflow.keras.layers import Dense\n",
    "from tensorflow.keras import activations\n",
    "\n",
    "%config InlineBackend.figure_format = 'retina'\n",
    "plt.rc('xtick',labelsize=16)\n",
    "plt.rc('ytick',labelsize=16)\n",
    "plt.style.use('seaborn-whitegrid')"
   ]
  },
  {
   "cell_type": "code",
   "execution_count": null,
   "metadata": {},
   "outputs": [],
   "source": [
    "t, x, dxdt = generate_damped_pendulum_solution(one_step=False, α=0.1, β=8.91, t_end=25)"
   ]
  },
  {
   "cell_type": "code",
   "execution_count": null,
   "metadata": {},
   "outputs": [],
   "source": [
    "plt.figure(figsize=(16,7))\n",
    "\n",
    "plt.subplot(1,2,1)\n",
    "plt.title(\"State Trajectory\")\n",
    "plt.plot(t, x, \"-\", label=\"x\")\n",
    "plt.plot(t, dxdt, \"-\", label=\"dxdt\")\n",
    "plt.xlabel(\"t\")\n",
    "plt.legend()\n",
    "\n",
    "plt.subplot(1,2,2)\n",
    "plt.title(\"Phase Space\")\n",
    "plt.plot(x, dxdt, \"-\")\n",
    "plt.show()"
   ]
  },
  {
   "cell_type": "code",
   "execution_count": null,
   "metadata": {},
   "outputs": [],
   "source": [
    "N_SAMPLES = 25000\n",
    "TEST_SIZE = 0.2\n",
    "X, Y = generate_damped_pendulum_solution(N_SAMPLES=N_SAMPLES, α=0.1, β=8.91, Δ=0.1, one_step=True)\n",
    "X_train, X_valid, y_train, y_valid = train_test_split(X, Y, test_size=TEST_SIZE, random_state=42)"
   ]
  },
  {
   "cell_type": "code",
   "execution_count": null,
   "metadata": {},
   "outputs": [],
   "source": [
    "TRAIN_LENGTH = int(N_SAMPLES * (1-TEST_SIZE))\n",
    "BATCH_SIZE = 10\n",
    "BUFFER_SIZE = TRAIN_LENGTH\n",
    "STEPS_PER_EPOCH = int(TRAIN_LENGTH // BATCH_SIZE)\n",
    "VALIDATION_STEPS = int((N_SAMPLES*TEST_SIZE)//BATCH_SIZE)"
   ]
  },
  {
   "cell_type": "code",
   "execution_count": null,
   "metadata": {},
   "outputs": [],
   "source": [
    "train = tf.data.Dataset.from_tensor_slices((X_train, y_train))\n",
    "valid = tf.data.Dataset.from_tensor_slices((X_valid, y_valid))\n",
    "\n",
    "train_dataset = train.cache().shuffle(BUFFER_SIZE).batch(BATCH_SIZE).repeat()\n",
    "train_dataset = train_dataset.prefetch(buffer_size=tf.data.experimental.AUTOTUNE)\n",
    "valid_dataset = valid.batch(BATCH_SIZE)"
   ]
  },
  {
   "cell_type": "code",
   "execution_count": null,
   "metadata": {
    "scrolled": false
   },
   "outputs": [],
   "source": [
    "def resnet_block(input_dim):\n",
    "    inputs = keras.layers.Input(shape=(input_dim,))\n",
    "    \n",
    "    x = Dense(30, activation=\"tanh\", kernel_initializer='random_normal', bias_initializer='zeros')(inputs)\n",
    "    x = Dense(30, activation=\"tanh\", kernel_initializer='random_normal', bias_initializer='zeros')(x)\n",
    "    x = Dense(2, kernel_initializer='random_normal', bias_initializer='zeros')(x)\n",
    "    \n",
    "    x = layers.Add()([x, inputs])\n",
    "    outputs = Dense(2, kernel_initializer='random_normal', bias_initializer='zeros')(x)\n",
    "    \n",
    "    model =  keras.Model(inputs=inputs, outputs=outputs)   \n",
    "    return model\n",
    "    \n",
    "\n",
    "model = resnet_block(input_dim=2)"
   ]
  },
  {
   "cell_type": "code",
   "execution_count": null,
   "metadata": {},
   "outputs": [],
   "source": [
    "# model.summary()\n",
    "plot_model(model, show_shapes=True, dpi=64)"
   ]
  },
  {
   "cell_type": "code",
   "execution_count": null,
   "metadata": {},
   "outputs": [],
   "source": [
    "# reduce_lr = keras.callbacks.ReduceLROnPlateau(monitor='val_loss', factor=0.5, patience=50, min_lr=1e-4, verbose=2)"
   ]
  },
  {
   "cell_type": "code",
   "execution_count": null,
   "metadata": {
    "scrolled": true
   },
   "outputs": [],
   "source": [
    "model.compile(\n",
    "    loss=keras.losses.MeanSquaredError(), \n",
    "    optimizer=keras.optimizers.Adam(learning_rate=0.001), \n",
    ")"
   ]
  },
  {
   "cell_type": "code",
   "execution_count": null,
   "metadata": {
    "scrolled": true
   },
   "outputs": [],
   "source": [
    "%%time\n",
    "\n",
    "history = model.fit(\n",
    "    train_dataset, \n",
    "    epochs=500, \n",
    "    steps_per_epoch=STEPS_PER_EPOCH,\n",
    "    validation_steps=VALIDATION_STEPS,\n",
    "    validation_data = valid_dataset,\n",
    "    verbose=2, \n",
    "    #callbacks=[reduce_lr]\n",
    ")"
   ]
  },
  {
   "cell_type": "code",
   "execution_count": null,
   "metadata": {},
   "outputs": [],
   "source": [
    "def plot_history(history):\n",
    "    loss = history.history['loss']\n",
    "    val_loss = history.history['val_loss']\n",
    "    #learning_rate = history.history[\"lr\"]\n",
    "    epochs = range(len(loss))\n",
    "    plt.figure(figsize=(15,7))\n",
    "    plt.plot(epochs, loss, 'b', label=\"Training\")\n",
    "    plt.plot(epochs, val_loss, 'g', label=\"Validation\")\n",
    "    #plt.plot(epochs, learning_rate, 'r', label=\"Learning Rate\")\n",
    "    plt.title('Training and Validation Loss',fontsize=22)\n",
    "    plt.yscale(\"log\")\n",
    "    plt.xlabel(\"Epoch\", fontsize=20)\n",
    "    plt.legend(prop={\"size\":20})\n",
    "    plt.show()"
   ]
  },
  {
   "cell_type": "code",
   "execution_count": null,
   "metadata": {},
   "outputs": [],
   "source": [
    "plot_history(history)"
   ]
  },
  {
   "cell_type": "code",
   "execution_count": null,
   "metadata": {},
   "outputs": [],
   "source": [
    "def predict_solution(Δ=0.1, t_end=20):\n",
    "\n",
    "    t_steps = np.arange(0,t_end, Δ)\n",
    "    X_pred = np.zeros((len(t_steps), 2))\n",
    "\n",
    "    x_0 = np.array([-1.193, -3.876])\n",
    "    x_Δ = np.array([-1.193, -3.876])\n",
    "    \n",
    "    for i in range(0, len(t_steps)):\n",
    "        x_0 = x_Δ\n",
    "        x_Δ = model.predict(np.expand_dims(x_0, axis=0))\n",
    "        x_Δ = np.squeeze(x_Δ)\n",
    "        X_pred[i] = x_Δ   \n",
    "        \n",
    "    t_steps = t_steps + Δ\n",
    "    return t_steps, X_pred"
   ]
  },
  {
   "cell_type": "code",
   "execution_count": null,
   "metadata": {},
   "outputs": [],
   "source": [
    "def get_error(t_actual, x_actual, t_pred, x_pred, t_end):\n",
    "    Nt = t_actual.shape[0]\n",
    "    errors = []\n",
    "    for i in range(0,len(t_pred)):\n",
    "        t_idx = int((Nt/t_end)*t_pred[i] - 1)\n",
    "        x_true = x_actual[t_idx]\n",
    "        x_est = x_pred[i]\n",
    "        err = np.abs((x_true - x_est)/x_true)*100\n",
    "        #print(\"x true = {:.4f}  x est = {:.4f}  error = {:.4f}\".format(x_true, x_est, err))\n",
    "        errors.append(err)\n",
    "    return errors"
   ]
  },
  {
   "cell_type": "code",
   "execution_count": null,
   "metadata": {},
   "outputs": [],
   "source": [
    "Δ=0.1\n",
    "t_end=20"
   ]
  },
  {
   "cell_type": "code",
   "execution_count": null,
   "metadata": {},
   "outputs": [],
   "source": [
    "t_steps, X_pred = predict_solution(Δ=Δ, t_end=t_end)   \n",
    "t, x, dxdt = generate_damped_pendulum_solution(one_step=False, α=0.1, β=8.91, Δ=Δ, t_end=t_end)"
   ]
  },
  {
   "cell_type": "code",
   "execution_count": null,
   "metadata": {},
   "outputs": [],
   "source": [
    "plt.figure(figsize=(16,8))\n",
    "\n",
    "plt.subplot(1,2,1)\n",
    "plt.title(\"State Trajectory\", fontsize=20)\n",
    "plt.plot(t, x, \"-\", c=\"r\", label=\"Reference x\")\n",
    "plt.plot(t, dxdt, \"-\", c=\"r\", label=\"Reference dxdt\")\n",
    "plt.scatter(t_steps, X_pred[:,0], s=40, c=\"b\", marker=\"*\", label=\"Approximation x\")\n",
    "plt.scatter(t_steps, X_pred[:,1], s=40, c=\"b\", marker=\".\", label=\"Approximation dxdt\")\n",
    "plt.legend()\n",
    "\n",
    "plt.subplot(1,2,2)\n",
    "plt.title(\"State Space\", fontsize=20)\n",
    "plt.plot(x, dxdt, \"-\", c=\"r\", label=\"Reference\")\n",
    "plt.scatter(X_pred[:,0], X_pred[:,1], s=40, c=\"b\", marker=\".\", label=\"Approximation\")\n",
    "plt.legend()\n",
    "plt.tight_layout()\n",
    "plt.show()"
   ]
  },
  {
   "cell_type": "code",
   "execution_count": null,
   "metadata": {},
   "outputs": [],
   "source": []
  }
 ],
 "metadata": {
  "kernelspec": {
   "display_name": "Python 3",
   "language": "python",
   "name": "python3"
  },
  "language_info": {
   "codemirror_mode": {
    "name": "ipython",
    "version": 3
   },
   "file_extension": ".py",
   "mimetype": "text/x-python",
   "name": "python",
   "nbconvert_exporter": "python",
   "pygments_lexer": "ipython3",
   "version": "3.7.7"
  }
 },
 "nbformat": 4,
 "nbformat_minor": 4
}
